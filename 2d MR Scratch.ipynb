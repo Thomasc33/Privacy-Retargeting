{
 "cells": [
  {
   "cell_type": "code",
   "execution_count": 1,
   "metadata": {},
   "outputs": [],
   "source": [
    "import pickle\n",
    "import random\n",
    "import numpy as np\n",
    "import torch\n",
    "import torch.nn as nn\n",
    "import torch.nn.functional as F\n",
    "from torch.utils.data import Dataset, DataLoader"
   ]
  },
  {
   "attachments": {},
   "cell_type": "markdown",
   "metadata": {},
   "source": [
    "# Data"
   ]
  },
  {
   "cell_type": "code",
   "execution_count": 2,
   "metadata": {},
   "outputs": [],
   "source": [
    "with open('ntu/X.pkl', 'rb') as f:\n",
    "    X = pickle.load(f)"
   ]
  },
  {
   "cell_type": "code",
   "execution_count": 3,
   "metadata": {},
   "outputs": [
    {
     "name": "stdout",
     "output_type": "stream",
     "text": [
      "to delete 28814\n"
     ]
    }
   ],
   "source": [
    "# clean data\n",
    "to_del = []\n",
    "for file in X:\n",
    "    if type(X[file]) == list:\n",
    "        to_del.append(file)\n",
    "print('to delete', len(to_del))\n",
    "for file in to_del:\n",
    "    del X[file]"
   ]
  },
  {
   "cell_type": "code",
   "execution_count": 4,
   "metadata": {},
   "outputs": [],
   "source": [
    "# pad or trim data to 75 frames. when padding, repeat the last frame\n",
    "# input is of shape (frames, 75)\n",
    "T = 75\n",
    "for file in X:\n",
    "    if X[file].shape[0] < T:\n",
    "        X[file] = np.pad(X[file], ((0, T - X[file].shape[0]), (0, 0)), mode='edge')\n",
    "    elif X[file].shape[0] > T:\n",
    "        X[file] = X[file][:T, :]"
   ]
  },
  {
   "cell_type": "code",
   "execution_count": 5,
   "metadata": {},
   "outputs": [],
   "source": [
    "for file in X:\n",
    "    X[file] = torch.tensor(X[file])"
   ]
  },
  {
   "cell_type": "code",
   "execution_count": 6,
   "metadata": {},
   "outputs": [],
   "source": [
    "a = {}\n",
    "p = {}\n",
    "for file in X:\n",
    "    if file[16:20] not in a:\n",
    "        a[file[16:20]] = {}\n",
    "    if file[8:12] not in a[file[16:20]]:\n",
    "        a[file[16:20]][file[8:12]] = []\n",
    "    a[file[16:20]][file[8:12]].append(file)\n",
    "    \n",
    "    if file[8:12] not in p:\n",
    "        p[file[8:12]] = set()\n",
    "    p[file[8:12]].add(file[16:20])"
   ]
  },
  {
   "cell_type": "code",
   "execution_count": 7,
   "metadata": {},
   "outputs": [],
   "source": [
    "samples = 500\n",
    "batch_size = 16\n",
    "train_x = []\n",
    "train_y = []\n",
    "\n",
    "for _ in range(samples):\n",
    "    # sample two random p\n",
    "    p1, p2 = random.sample(list(p.keys()), 2)\n",
    "    # find overlapping a\n",
    "    a1 = p[p1]\n",
    "    a2 = p[p2]\n",
    "    a12 = a1.intersection(a2)\n",
    "    if len(a12) == 0:\n",
    "        continue\n",
    "    # sample two random a\n",
    "    a1, a2 = random.sample(list(a12), 2)\n",
    "    # sample x and y\n",
    "    x1 = random.sample(a[a1][p1], 1)[0]\n",
    "    x2 = random.sample(a[a2][p2], 1)[0]\n",
    "    y1 = random.sample(a[a1][p2], 1)[0]\n",
    "    y2 = random.sample(a[a2][p1], 1)[0]\n",
    "    train_x.append([x1, x2])\n",
    "    train_y.append([y1, y2])"
   ]
  },
  {
   "cell_type": "code",
   "execution_count": 8,
   "metadata": {},
   "outputs": [],
   "source": [
    "class Data(Dataset):\n",
    "    def __init__(self, X, y):\n",
    "        self.X = X\n",
    "        self.y = y\n",
    "        \n",
    "    def __getitem__(self, index):\n",
    "        actors = [self.X[index][0][8:12], self.X[index][1][8:12]]\n",
    "        actions = [self.X[index][0][16:20], self.X[index][1][16:20]]\n",
    "        return X[self.X[index][0]], X[self.X[index][1]], X[self.y[index][0]],  X[self.y[index][1]], actors, actions\n",
    "    \n",
    "    def __len__(self):\n",
    "        return len(self.X)"
   ]
  },
  {
   "cell_type": "code",
   "execution_count": 9,
   "metadata": {},
   "outputs": [],
   "source": [
    "data = Data(train_x, train_y)\n",
    "dl = DataLoader(data, batch_size=batch_size, shuffle=True)"
   ]
  },
  {
   "attachments": {},
   "cell_type": "markdown",
   "metadata": {},
   "source": [
    "# Model"
   ]
  },
  {
   "cell_type": "code",
   "execution_count": 10,
   "metadata": {},
   "outputs": [],
   "source": [
    "dataset = 'NTU'\n",
    "seg = 75\n",
    "lr = 0.1\n",
    "epochs = 100"
   ]
  },
  {
   "cell_type": "code",
   "execution_count": 55,
   "metadata": {},
   "outputs": [],
   "source": [
    "from SGN.model import SGN\n",
    "\n",
    "class Encoder(nn.Module):\n",
    "    def __init__(self):\n",
    "        super(Encoder, self).__init__()\n",
    "\n",
    "        self.enc1 = nn.Conv2d(in_channels=1, out_channels=32, kernel_size=3, stride=1, padding=1)\n",
    "        self.enc2 = nn.Conv2d(in_channels=32, out_channels=16, kernel_size=3, stride=1, padding=1)\n",
    "        self.enc3 = nn.Conv2d(in_channels=16, out_channels=8, kernel_size=3, stride=1, padding=1)\n",
    "\n",
    "        self.pool = nn.MaxPool2d(kernel_size=2, stride=2)\n",
    "\n",
    "        self.relu = nn.ReLU()\n",
    "\n",
    "    def forward(self, x):\n",
    "        x = x.unsqueeze(1)\n",
    "        x = self.relu(self.enc1(x))\n",
    "        x = self.pool(x)\n",
    "        x = self.relu(self.enc2(x))\n",
    "        x = self.pool(x)\n",
    "        x = self.relu(self.enc3(x))\n",
    "        x = self.pool(x)\n",
    "        return x\n",
    "\n",
    "class Decoder(nn.Module):\n",
    "    def __init__(self):\n",
    "        super(Decoder, self).__init__()\n",
    "\n",
    "        self.dec1 = nn.ConvTranspose2d(in_channels=16, out_channels=32, kernel_size=3, stride=1, padding=1)\n",
    "        self.dec2 = nn.ConvTranspose2d(in_channels=32, out_channels=64, kernel_size=3, stride=1, padding=1)\n",
    "        self.dec3 = nn.ConvTranspose2d(in_channels=64, out_channels=1, kernel_size=3, stride=1, padding=1)\n",
    "\n",
    "        self.up = nn.Upsample(scale_factor=2, mode='nearest')\n",
    "        self.up75 = nn.Upsample(size=(75,75), mode='nearest')\n",
    "\n",
    "        self.relu = nn.ReLU()\n",
    "        self.sigmoid = nn.Sigmoid()\n",
    "\n",
    "    def forward(self, x):\n",
    "        x = self.relu(self.dec1(x))\n",
    "        x = self.up(x)\n",
    "        x = self.relu(self.dec2(x))\n",
    "        x = self.up(x)\n",
    "        x = self.sigmoid(self.dec3(x))\n",
    "        x = self.up75(x)\n",
    "        x = x.squeeze(1)\n",
    "        return x\n",
    "\n",
    "class AutoEncoder(nn.Module):\n",
    "    def __init__(self):\n",
    "        super(AutoEncoder, self).__init__()\n",
    "\n",
    "        self.static_encoder = Encoder()\n",
    "        self.dynamic_encoder = Encoder()\n",
    "        self.decoder = Decoder()\n",
    "\n",
    "        # Adversarial Models\n",
    "        # self.utility = SGN(120, dataset, seg, batch_size, 1) # Action Recognition\n",
    "        # self.privacy = SGN(106, dataset, seg, batch_size, 1) # Re-Identification\n",
    "\n",
    "    def cross(self, x1, x2):\n",
    "        d1 = self.dynamic_encoder(x1)\n",
    "        d2 = self.dynamic_encoder(x2)\n",
    "        s1 = self.static_encoder(x1)\n",
    "        s2 = self.static_encoder(x2)\n",
    "        \n",
    "        out1 = self.decoder(torch.cat((d1, s1), dim=1))\n",
    "        out2 = self.decoder(torch.cat((d2, s2), dim=1))\n",
    "        out12 = self.decoder(torch.cat((d1, s2), dim=1))\n",
    "        out21 = self.decoder(torch.cat((d2, s1), dim=1))\n",
    "\n",
    "        return out1, out2, out12, out21\n",
    "    \n",
    "    def loss(self, x1, x2, y1, y2, actors, actions):\n",
    "        d1 = self.dynamic_encoder(x1)\n",
    "        d2 = self.dynamic_encoder(x2)\n",
    "        s1 = self.static_encoder(x1)\n",
    "        s2 = self.static_encoder(x2)\n",
    "\n",
    "        out1 = self.decoder(torch.cat((d1, s1), dim=1))\n",
    "        out2 = self.decoder(torch.cat((d2, s2), dim=1))\n",
    "        out12 = self.decoder(torch.cat((d1, s2), dim=1))\n",
    "        out21 = self.decoder(torch.cat((d2, s1), dim=1))\n",
    "        \n",
    "        # reconstruction loss\n",
    "        rec_loss = self.reconstruction_loss(x1, out1) + self.reconstruction_loss(x2, out2)\n",
    "        # print('Reconstruction Loss: ', rec_loss.item())\n",
    "        \n",
    "        # cross reconstruction loss\n",
    "        cross_loss = self.cross_reconstruction_loss(x1, x2, out12, out21)\n",
    "        # print('Cross Reconstruction Loss: ', cross_loss.item())\n",
    "        \n",
    "        # end effector loss\n",
    "        # triplet loss\n",
    "        # sgn latent privacy loss (adversarial)\n",
    "        # sgn latent utility loss (adversarial)\n",
    "\n",
    "        return rec_loss + cross_loss\n",
    "\n",
    "    def reconstruction_loss(self, x, y):\n",
    "        return torch.square(torch.norm(x - y, dim=1)).mean()\n",
    "    \n",
    "    def cross_reconstruction_loss(self, x1, x2, y1, y2):\n",
    "        return torch.square(torch.norm(x1 - y2, dim=1)).mean() + torch.square(torch.norm(x2 - y1, dim=1)).mean()\n",
    "\n",
    "    def forward(self, x):\n",
    "        dyn = self.dynamic_encoder(x)\n",
    "        sta = self.static_encoder(x)\n",
    "        x = self.decoder(torch.cat((dyn, sta), dim=1))\n",
    "        return x"
   ]
  },
  {
   "cell_type": "code",
   "execution_count": 56,
   "metadata": {},
   "outputs": [],
   "source": [
    "model = AutoEncoder()#.cuda()\n",
    "optimizer = torch.optim.Adam(model.parameters(), lr=lr)"
   ]
  },
  {
   "cell_type": "code",
   "execution_count": 57,
   "metadata": {},
   "outputs": [
    {
     "name": "stdout",
     "output_type": "stream",
     "text": [
      "torch.Size([16, 8, 9, 9])\n",
      "torch.Size([16, 75, 75])\n",
      "torch.Size([16, 8, 9, 9])\n",
      "torch.Size([16, 75, 75])\n",
      "torch.Size([16, 8, 9, 9])\n",
      "torch.Size([16, 75, 75])\n",
      "torch.Size([16, 8, 9, 9])\n",
      "torch.Size([16, 75, 75])\n",
      "torch.Size([16, 8, 9, 9])\n",
      "torch.Size([16, 75, 75])\n",
      "torch.Size([16, 8, 9, 9])\n",
      "torch.Size([16, 75, 75])\n",
      "torch.Size([16, 8, 9, 9])\n",
      "torch.Size([16, 75, 75])\n",
      "torch.Size([16, 8, 9, 9])\n",
      "torch.Size([16, 75, 75])\n",
      "torch.Size([16, 8, 9, 9])\n",
      "torch.Size([16, 75, 75])\n",
      "torch.Size([16, 8, 9, 9])\n",
      "torch.Size([16, 75, 75])\n",
      "torch.Size([16, 8, 9, 9])\n",
      "torch.Size([16, 75, 75])\n",
      "torch.Size([16, 8, 9, 9])\n",
      "torch.Size([16, 75, 75])\n",
      "torch.Size([16, 8, 9, 9])\n",
      "torch.Size([16, 75, 75])\n",
      "torch.Size([16, 8, 9, 9])\n",
      "torch.Size([16, 75, 75])\n",
      "torch.Size([16, 8, 9, 9])\n",
      "torch.Size([16, 75, 75])\n",
      "torch.Size([16, 8, 9, 9])\n",
      "torch.Size([16, 75, 75])\n"
     ]
    },
    {
     "ename": "KeyboardInterrupt",
     "evalue": "",
     "output_type": "error",
     "traceback": [
      "\u001b[0;31m---------------------------------------------------------------------------\u001b[0m",
      "\u001b[0;31mKeyboardInterrupt\u001b[0m                         Traceback (most recent call last)",
      "Cell \u001b[0;32mIn[57], line 6\u001b[0m\n\u001b[1;32m      3\u001b[0m \u001b[39mfor\u001b[39;00m (x1, x2, y1, y2, actors, actions) \u001b[39min\u001b[39;00m dl:\n\u001b[1;32m      4\u001b[0m     \u001b[39m# x1, x2, y1, y2 = x1.float().cuda(), x2.float().cuda(), y1.float().cuda(), y2.float().cuda()\u001b[39;00m\n\u001b[1;32m      5\u001b[0m     x1, x2, y1, y2 \u001b[39m=\u001b[39m x1\u001b[39m.\u001b[39mfloat(), x2\u001b[39m.\u001b[39mfloat(), y1\u001b[39m.\u001b[39mfloat(), y2\u001b[39m.\u001b[39mfloat()\n\u001b[0;32m----> 6\u001b[0m     loss \u001b[39m=\u001b[39m model\u001b[39m.\u001b[39;49mloss(x1, x2, y1, y2, actors, actions)\n\u001b[1;32m      7\u001b[0m     optimizer\u001b[39m.\u001b[39mzero_grad()\n\u001b[1;32m      8\u001b[0m     loss\u001b[39m.\u001b[39mbackward()\n",
      "Cell \u001b[0;32mIn[55], line 75\u001b[0m, in \u001b[0;36mAutoEncoder.loss\u001b[0;34m(self, x1, x2, y1, y2, actors, actions)\u001b[0m\n\u001b[1;32m     74\u001b[0m \u001b[39mdef\u001b[39;00m \u001b[39mloss\u001b[39m(\u001b[39mself\u001b[39m, x1, x2, y1, y2, actors, actions):\n\u001b[0;32m---> 75\u001b[0m     d1 \u001b[39m=\u001b[39m \u001b[39mself\u001b[39;49m\u001b[39m.\u001b[39;49mdynamic_encoder(x1)\n\u001b[1;32m     76\u001b[0m     d2 \u001b[39m=\u001b[39m \u001b[39mself\u001b[39m\u001b[39m.\u001b[39mdynamic_encoder(x2)\n\u001b[1;32m     77\u001b[0m     s1 \u001b[39m=\u001b[39m \u001b[39mself\u001b[39m\u001b[39m.\u001b[39mstatic_encoder(x1)\n",
      "File \u001b[0;32m~/miniforge3/envs/privacy-retargeting/lib/python3.11/site-packages/torch/nn/modules/module.py:1501\u001b[0m, in \u001b[0;36mModule._call_impl\u001b[0;34m(self, *args, **kwargs)\u001b[0m\n\u001b[1;32m   1496\u001b[0m \u001b[39m# If we don't have any hooks, we want to skip the rest of the logic in\u001b[39;00m\n\u001b[1;32m   1497\u001b[0m \u001b[39m# this function, and just call forward.\u001b[39;00m\n\u001b[1;32m   1498\u001b[0m \u001b[39mif\u001b[39;00m \u001b[39mnot\u001b[39;00m (\u001b[39mself\u001b[39m\u001b[39m.\u001b[39m_backward_hooks \u001b[39mor\u001b[39;00m \u001b[39mself\u001b[39m\u001b[39m.\u001b[39m_backward_pre_hooks \u001b[39mor\u001b[39;00m \u001b[39mself\u001b[39m\u001b[39m.\u001b[39m_forward_hooks \u001b[39mor\u001b[39;00m \u001b[39mself\u001b[39m\u001b[39m.\u001b[39m_forward_pre_hooks\n\u001b[1;32m   1499\u001b[0m         \u001b[39mor\u001b[39;00m _global_backward_pre_hooks \u001b[39mor\u001b[39;00m _global_backward_hooks\n\u001b[1;32m   1500\u001b[0m         \u001b[39mor\u001b[39;00m _global_forward_hooks \u001b[39mor\u001b[39;00m _global_forward_pre_hooks):\n\u001b[0;32m-> 1501\u001b[0m     \u001b[39mreturn\u001b[39;00m forward_call(\u001b[39m*\u001b[39;49margs, \u001b[39m*\u001b[39;49m\u001b[39m*\u001b[39;49mkwargs)\n\u001b[1;32m   1502\u001b[0m \u001b[39m# Do not call functions when jit is used\u001b[39;00m\n\u001b[1;32m   1503\u001b[0m full_backward_hooks, non_full_backward_hooks \u001b[39m=\u001b[39m [], []\n",
      "Cell \u001b[0;32mIn[55], line 19\u001b[0m, in \u001b[0;36mEncoder.forward\u001b[0;34m(self, x)\u001b[0m\n\u001b[1;32m     17\u001b[0m x \u001b[39m=\u001b[39m \u001b[39mself\u001b[39m\u001b[39m.\u001b[39mrelu(\u001b[39mself\u001b[39m\u001b[39m.\u001b[39menc1(x))\n\u001b[1;32m     18\u001b[0m x \u001b[39m=\u001b[39m \u001b[39mself\u001b[39m\u001b[39m.\u001b[39mpool(x)\n\u001b[0;32m---> 19\u001b[0m x \u001b[39m=\u001b[39m \u001b[39mself\u001b[39m\u001b[39m.\u001b[39mrelu(\u001b[39mself\u001b[39;49m\u001b[39m.\u001b[39;49menc2(x))\n\u001b[1;32m     20\u001b[0m x \u001b[39m=\u001b[39m \u001b[39mself\u001b[39m\u001b[39m.\u001b[39mpool(x)\n\u001b[1;32m     21\u001b[0m x \u001b[39m=\u001b[39m \u001b[39mself\u001b[39m\u001b[39m.\u001b[39mrelu(\u001b[39mself\u001b[39m\u001b[39m.\u001b[39menc3(x))\n",
      "File \u001b[0;32m~/miniforge3/envs/privacy-retargeting/lib/python3.11/site-packages/torch/nn/modules/module.py:1501\u001b[0m, in \u001b[0;36mModule._call_impl\u001b[0;34m(self, *args, **kwargs)\u001b[0m\n\u001b[1;32m   1496\u001b[0m \u001b[39m# If we don't have any hooks, we want to skip the rest of the logic in\u001b[39;00m\n\u001b[1;32m   1497\u001b[0m \u001b[39m# this function, and just call forward.\u001b[39;00m\n\u001b[1;32m   1498\u001b[0m \u001b[39mif\u001b[39;00m \u001b[39mnot\u001b[39;00m (\u001b[39mself\u001b[39m\u001b[39m.\u001b[39m_backward_hooks \u001b[39mor\u001b[39;00m \u001b[39mself\u001b[39m\u001b[39m.\u001b[39m_backward_pre_hooks \u001b[39mor\u001b[39;00m \u001b[39mself\u001b[39m\u001b[39m.\u001b[39m_forward_hooks \u001b[39mor\u001b[39;00m \u001b[39mself\u001b[39m\u001b[39m.\u001b[39m_forward_pre_hooks\n\u001b[1;32m   1499\u001b[0m         \u001b[39mor\u001b[39;00m _global_backward_pre_hooks \u001b[39mor\u001b[39;00m _global_backward_hooks\n\u001b[1;32m   1500\u001b[0m         \u001b[39mor\u001b[39;00m _global_forward_hooks \u001b[39mor\u001b[39;00m _global_forward_pre_hooks):\n\u001b[0;32m-> 1501\u001b[0m     \u001b[39mreturn\u001b[39;00m forward_call(\u001b[39m*\u001b[39;49margs, \u001b[39m*\u001b[39;49m\u001b[39m*\u001b[39;49mkwargs)\n\u001b[1;32m   1502\u001b[0m \u001b[39m# Do not call functions when jit is used\u001b[39;00m\n\u001b[1;32m   1503\u001b[0m full_backward_hooks, non_full_backward_hooks \u001b[39m=\u001b[39m [], []\n",
      "File \u001b[0;32m~/miniforge3/envs/privacy-retargeting/lib/python3.11/site-packages/torch/nn/modules/conv.py:463\u001b[0m, in \u001b[0;36mConv2d.forward\u001b[0;34m(self, input)\u001b[0m\n\u001b[1;32m    462\u001b[0m \u001b[39mdef\u001b[39;00m \u001b[39mforward\u001b[39m(\u001b[39mself\u001b[39m, \u001b[39minput\u001b[39m: Tensor) \u001b[39m-\u001b[39m\u001b[39m>\u001b[39m Tensor:\n\u001b[0;32m--> 463\u001b[0m     \u001b[39mreturn\u001b[39;00m \u001b[39mself\u001b[39;49m\u001b[39m.\u001b[39;49m_conv_forward(\u001b[39minput\u001b[39;49m, \u001b[39mself\u001b[39;49m\u001b[39m.\u001b[39;49mweight, \u001b[39mself\u001b[39;49m\u001b[39m.\u001b[39;49mbias)\n",
      "File \u001b[0;32m~/miniforge3/envs/privacy-retargeting/lib/python3.11/site-packages/torch/nn/modules/conv.py:459\u001b[0m, in \u001b[0;36mConv2d._conv_forward\u001b[0;34m(self, input, weight, bias)\u001b[0m\n\u001b[1;32m    455\u001b[0m \u001b[39mif\u001b[39;00m \u001b[39mself\u001b[39m\u001b[39m.\u001b[39mpadding_mode \u001b[39m!=\u001b[39m \u001b[39m'\u001b[39m\u001b[39mzeros\u001b[39m\u001b[39m'\u001b[39m:\n\u001b[1;32m    456\u001b[0m     \u001b[39mreturn\u001b[39;00m F\u001b[39m.\u001b[39mconv2d(F\u001b[39m.\u001b[39mpad(\u001b[39minput\u001b[39m, \u001b[39mself\u001b[39m\u001b[39m.\u001b[39m_reversed_padding_repeated_twice, mode\u001b[39m=\u001b[39m\u001b[39mself\u001b[39m\u001b[39m.\u001b[39mpadding_mode),\n\u001b[1;32m    457\u001b[0m                     weight, bias, \u001b[39mself\u001b[39m\u001b[39m.\u001b[39mstride,\n\u001b[1;32m    458\u001b[0m                     _pair(\u001b[39m0\u001b[39m), \u001b[39mself\u001b[39m\u001b[39m.\u001b[39mdilation, \u001b[39mself\u001b[39m\u001b[39m.\u001b[39mgroups)\n\u001b[0;32m--> 459\u001b[0m \u001b[39mreturn\u001b[39;00m F\u001b[39m.\u001b[39;49mconv2d(\u001b[39minput\u001b[39;49m, weight, bias, \u001b[39mself\u001b[39;49m\u001b[39m.\u001b[39;49mstride,\n\u001b[1;32m    460\u001b[0m                 \u001b[39mself\u001b[39;49m\u001b[39m.\u001b[39;49mpadding, \u001b[39mself\u001b[39;49m\u001b[39m.\u001b[39;49mdilation, \u001b[39mself\u001b[39;49m\u001b[39m.\u001b[39;49mgroups)\n",
      "\u001b[0;31mKeyboardInterrupt\u001b[0m: "
     ]
    }
   ],
   "source": [
    "for epoch in range(epochs):\n",
    "    losses = []\n",
    "    for (x1, x2, y1, y2, actors, actions) in dl:\n",
    "        # x1, x2, y1, y2 = x1.float().cuda(), x2.float().cuda(), y1.float().cuda(), y2.float().cuda()\n",
    "        x1, x2, y1, y2 = x1.float(), x2.float(), y1.float(), y2.float()\n",
    "        loss = model.loss(x1, x2, y1, y2, actors, actions)\n",
    "        optimizer.zero_grad()\n",
    "        loss.backward()\n",
    "        optimizer.step()\n",
    "        losses.append(loss.item())\n",
    "    print(f'Epoch {epoch+1}/{epochs} Loss: {np.mean(losses)}')"
   ]
  }
 ],
 "metadata": {
  "kernelspec": {
   "display_name": "Python 3",
   "language": "python",
   "name": "python3"
  },
  "language_info": {
   "codemirror_mode": {
    "name": "ipython",
    "version": 3
   },
   "file_extension": ".py",
   "mimetype": "text/x-python",
   "name": "python",
   "nbconvert_exporter": "python",
   "pygments_lexer": "ipython3",
   "version": "3.11.3"
  },
  "orig_nbformat": 4
 },
 "nbformat": 4,
 "nbformat_minor": 2
}
